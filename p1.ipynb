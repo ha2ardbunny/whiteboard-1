{
 "cells": [
  {
   "cell_type": "code",
   "execution_count": 1,
   "metadata": {},
   "outputs": [
    {
     "name": "stdout",
     "output_type": "stream",
     "text": [
      "[-36, -16, -3, 8, 21, 28, 55, 77, 99, 111, 400]\n"
     ]
    }
   ],
   "source": [
    "#question 1\n",
    "#array\n",
    "numbers=[21,400,8,-3,77,99,-16,55,111,-36,28]\n",
    "\n",
    "def bubble_sort(numbers):\n",
    "    n =len(numbers)\n",
    "    for i in range(n):\n",
    "        for j in range (0,n-i-1):\n",
    "            #swaping numbers\n",
    "            if numbers[j]>numbers[j+1]:\n",
    "                numbers[j],numbers[j+1]=numbers[j+1],numbers[j]\n",
    "    return numbers\n",
    "\n",
    "sorted_numbers = bubble_sort(numbers)\n",
    "print (sorted_numbers)"
   ]
  },
  {
   "cell_type": "code",
   "execution_count": 2,
   "metadata": {},
   "outputs": [
    {
     "name": "stdout",
     "output_type": "stream",
     "text": [
      "1,2,Fizz,4,Buzz,Fizz,7,8,Fizz,Buzz,11,Fizz,13,14,FizzBuzz,16,17,Fizz,19,Buzz,Fizz,22,23,Fizz,Buzz,26,Fizz,28,29,FizzBuzz,31,32,Fizz,34,Buzz,Fizz,37,38,Fizz,Buzz,41,Fizz,43,44,FizzBuzz,46,47,Fizz,49,Buzz,Fizz,52,53,Fizz,Buzz,56,Fizz,58,59,FizzBuzz,61,62,Fizz,64,Buzz,Fizz,67,68,Fizz,Buzz,71,Fizz,73,74,FizzBuzz,76,77,Fizz,79,Buzz,Fizz,82,83,Fizz,Buzz,86,Fizz,88,89,FizzBuzz,91,92,Fizz,94,Buzz,Fizz,97,98,Fizz,Buzz,"
     ]
    }
   ],
   "source": [
    "#question 2\n",
    "def fizz_buzz():\n",
    "    # for loop for number from 1 to 100\n",
    "    for i in range(1,101):\n",
    "        #three conditions\n",
    "        #divisible by 3 and 5\n",
    "        if i % 3 == 0 and i % 5 == 0: \n",
    "            print (\"FizzBuzz\", end =\",\")\n",
    "        \n",
    "        #divisible by 3 only\n",
    "        elif i % 3 == 0: \n",
    "            print(\"Fizz\", end = \",\")\n",
    "        \n",
    "        #divisible by 5 only\n",
    "        elif i % 5 == 0: \n",
    "            print(\"Buzz\", end = \",\")\n",
    "        \n",
    "        #when the number is not divisible by 3 and 5\n",
    "        else: \n",
    "            print (i, end = \",\")          \n",
    "fizz_buzz() \n",
    "\n",
    "            "
   ]
  },
  {
   "cell_type": "code",
   "execution_count": null,
   "metadata": {},
   "outputs": [
    {
     "name": "stdout",
     "output_type": "stream",
     "text": [
      "0, 1, 1, 2, 3, 5, 8, 13, 21, 34\n"
     ]
    }
   ],
   "source": [
    "#question 3\n",
    "#input times for fibonacci sequence\n",
    "count = int(input(\"Enter the number of Fibonacci sequence: \"))\n",
    "\n",
    "def fibonacci_recursive(n):\n",
    "    if n <= 1:\n",
    "        return n\n",
    "    return fibonacci_recursive(n - 1) + fibonacci_recursive(n - 2)\n",
    "\n",
    "def generate_fibonacci_sequence(count):\n",
    "    if count <= 0:\n",
    "        return []\n",
    "    return [fibonacci_recursive(i) for i in range(count)]\n",
    "\n",
    "#generate and print\n",
    "fibonacci_sequence = generate_fibonacci_sequence(count)\n",
    "print(\", \".join(map(str, fibonacci_sequence)))"
   ]
  },
  {
   "cell_type": "code",
   "execution_count": 8,
   "metadata": {},
   "outputs": [
    {
     "name": "stdout",
     "output_type": "stream",
     "text": [
      "4, 5, 6\n"
     ]
    }
   ],
   "source": [
    "#question 4\n",
    "#array\n",
    "list1 = [4, 5, 2, 3, 1, 6]\n",
    "list2 = [8, 7, 6, 9, 4, 5]\n",
    "\n",
    "def find_intersection(list1, list2):\n",
    "    intersection = []\n",
    "    for item1 in list1:\n",
    "        for item2 in list2:\n",
    "            if item1 == item2:\n",
    "                #prevent duplicates\n",
    "                if item1 not in intersection: \n",
    "                    intersection.append(item1)\n",
    "    return intersection\n",
    "\n",
    "#find intersection\n",
    "result = find_intersection(list1, list2)\n",
    "\n",
    "#output\n",
    "print(\", \".join(map(str, result)))\n",
    "\n"
   ]
  },
  {
   "cell_type": "code",
   "execution_count": 44,
   "metadata": {},
   "outputs": [
    {
     "name": "stdout",
     "output_type": "stream",
     "text": [
      "[1, 2, 3, 7, 8, 9]\n"
     ]
    }
   ],
   "source": [
    "#question 5\n",
    "array1 = [4, 5, 2, 3, 1, 6]\n",
    "array2 = [8, 7, 6, 9, 4, 5]\n",
    "\n",
    "def symmetric_difference(array1, array2):\n",
    "    # Convert lists to sets to use set operations\n",
    "    set1 = set(array1)\n",
    "    set2 = set(array2)\n",
    "    # Find the symmetric difference\n",
    "    result = set1.symmetric_difference(set2)\n",
    "    # Return the result as a sorted list for consistency\n",
    "    return sorted(result)\n",
    "\n",
    "# Find the symmetric difference\n",
    "output = symmetric_difference(array1, array2)\n",
    "print(output)\n"
   ]
  },
  {
   "cell_type": "code",
   "execution_count": 20,
   "metadata": {},
   "outputs": [
    {
     "name": "stdout",
     "output_type": "stream",
     "text": [
      "Preset string: 'Hello, world!'\n",
      "Occurrences of 'o': 2\n"
     ]
    }
   ],
   "source": [
    "#question 6\n",
    "from collections import Counter\n",
    "\n",
    "def count_character_occurrence(preset_string, target_char):\n",
    "    #only alphanumeric character will be consider\n",
    "    filtered_string = ''.join(c for c in preset_string if c.isalnum())\n",
    "    #count occurrences of character\n",
    "    char_count = Counter(filtered_string)\n",
    "    #count occurrences of the target character\n",
    "    return char_count.get(target_char, 0)\n",
    "\n",
    "\n",
    "preset_string = \"Hello, world!\"\n",
    "print(f\"Preset string: '{preset_string}'\")\n",
    "\n",
    "target_char = input(\"Enter a character from the preset string to count its occurrences: \")\n",
    "\n",
    "# Validate that the user provided a single character and it's in the preset string\n",
    "if len(target_char) != 1 or target_char not in preset_string:\n",
    "    print(\"Invalid input. Please enter a single character from the preset string.\")\n",
    "else:\n",
    "    # Count the occurrences of the target character\n",
    "    target_count = count_character_occurrence(preset_string, target_char)\n",
    "    print(f\"Occurrences of '{target_char}': {target_count}\")\n"
   ]
  },
  {
   "cell_type": "code",
   "execution_count": null,
   "metadata": {},
   "outputs": [
    {
     "name": "stdout",
     "output_type": "stream",
     "text": [
      "The square root of 10 is 4.\n"
     ]
    }
   ],
   "source": [
    "def square_root(x):\n",
    "    if x < 0:\n",
    "        raise ValueError(\"Input must be a non-negative integer.\")\n",
    "    # Start with 0 and increment until the square equals x\n",
    "    result = 0\n",
    "    while result * result < x:\n",
    "        result += 1\n",
    "    return result\n",
    "\n",
    "try:\n",
    "    x = int(input(\"Enter a non-negative integer (perfect square): \"))\n",
    "    # Calculate and print the square root\n",
    "    print(f\"The square root of {x} is {square_root(x)}.\")\n",
    "except ValueError:\n",
    "    print(\"Invalid input. Please enter a non-negative integer.\")\n"
   ]
  },
  {
   "cell_type": "code",
   "execution_count": null,
   "metadata": {},
   "outputs": [
    {
     "name": "stdout",
     "output_type": "stream",
     "text": [
      "True\n"
     ]
    }
   ],
   "source": [
    "def are_anagrams(string1, string2):\n",
    "    # Remove spaces and convert to lowercase for case-insensitivity\n",
    "    string1 = string1.replace(\" \", \"\").lower()\n",
    "    string2 = string2.replace(\" \", \"\").lower()\n",
    "    # Check if sorted characters of both strings are equal\n",
    "    return sorted(string1) == sorted(string2)\n",
    "\n",
    "string1 = input(\"Enter the first string: \")\n",
    "string2 = input(\"Enter the second string: \")\n",
    "\n",
    "if are_anagrams(string1, string2):\n",
    "    print(\"True\")\n",
    "else:\n",
    "    print(\"False\")\n"
   ]
  },
  {
   "cell_type": "code",
   "execution_count": 43,
   "metadata": {},
   "outputs": [
    {
     "name": "stdout",
     "output_type": "stream",
     "text": [
      "No path exists.\n"
     ]
    }
   ],
   "source": [
    "def find_path(graph, start, end, path=None):\n",
    "    if path is None:\n",
    "        path = []\n",
    "    path = path + [start]\n",
    "\n",
    "    # If the start node is the same as the end node, return the path\n",
    "    if start == end:\n",
    "        return True, path\n",
    "\n",
    "    # If the start node is not in the graph, no path exists\n",
    "    if start not in graph:\n",
    "        return False, None\n",
    "\n",
    "    # Explore neighbors recursively\n",
    "    for node in graph[start]:\n",
    "        if node not in path:  # Avoid cycles\n",
    "            exists, sub_path = find_path(graph, node, end, path)\n",
    "            if exists:\n",
    "                return True, sub_path\n",
    "\n",
    "    # No path found\n",
    "    return False, None\n",
    "\n",
    "# Example graph represented as an adjacency list\n",
    "graph = {\n",
    "    'A': ['B'],\n",
    "    'B': ['C', 'D'],\n",
    "    'C': ['F'],\n",
    "    'D': ['E', 'F'],\n",
    "    'E': ['F', 'G'],\n",
    "    'F': ['G'],\n",
    "    'G': [],\n",
    "    'H': []  # Disconnected node\n",
    "}\n",
    "\n",
    "# Test the function\n",
    "start_node = input(\"Enter the start node: \").strip()\n",
    "end_node = input(\"Enter the end node: \").strip()\n",
    "\n",
    "exists, path = find_path(graph, start_node, end_node)\n",
    "if exists:\n",
    "    print(f\"Path exists: {path}\")\n",
    "else:\n",
    "    print(\"No path exists.\")\n"
   ]
  }
 ],
 "metadata": {
  "kernelspec": {
   "display_name": "Python 3",
   "language": "python",
   "name": "python3"
  },
  "language_info": {
   "codemirror_mode": {
    "name": "ipython",
    "version": 3
   },
   "file_extension": ".py",
   "mimetype": "text/x-python",
   "name": "python",
   "nbconvert_exporter": "python",
   "pygments_lexer": "ipython3",
   "version": "3.12.2"
  }
 },
 "nbformat": 4,
 "nbformat_minor": 2
}
